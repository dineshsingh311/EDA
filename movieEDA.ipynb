{
 "cells": [
  {
   "cell_type": "code",
   "execution_count": 1,
   "metadata": {},
   "outputs": [],
   "source": [
    "import numpy as np\n",
    "import pandas as pd\n",
    "import seaborn as sns\n",
    "import matplotlib.pyplot as plt\n",
    "%matplotlib inline"
   ]
  },
  {
   "cell_type": "code",
   "execution_count": 2,
   "metadata": {},
   "outputs": [],
   "source": [
    "movie=pd.read_csv(\"movie_metadata.csv\")"
   ]
  },
  {
   "cell_type": "code",
   "execution_count": 3,
   "metadata": {},
   "outputs": [
    {
     "name": "stdout",
     "output_type": "stream",
     "text": [
      "The shape of data is: (5043, 28)\n"
     ]
    }
   ],
   "source": [
    "print(\"The shape of data is:\",movie.shape)"
   ]
  },
  {
   "cell_type": "code",
   "execution_count": 4,
   "metadata": {},
   "outputs": [
    {
     "data": {
      "text/html": [
       "<div>\n",
       "<style scoped>\n",
       "    .dataframe tbody tr th:only-of-type {\n",
       "        vertical-align: middle;\n",
       "    }\n",
       "\n",
       "    .dataframe tbody tr th {\n",
       "        vertical-align: top;\n",
       "    }\n",
       "\n",
       "    .dataframe thead th {\n",
       "        text-align: right;\n",
       "    }\n",
       "</style>\n",
       "<table border=\"1\" class=\"dataframe\">\n",
       "  <thead>\n",
       "    <tr style=\"text-align: right;\">\n",
       "      <th></th>\n",
       "      <th>color</th>\n",
       "      <th>director_name</th>\n",
       "      <th>num_critic_for_reviews</th>\n",
       "      <th>duration</th>\n",
       "      <th>director_facebook_likes</th>\n",
       "      <th>actor_3_facebook_likes</th>\n",
       "      <th>actor_2_name</th>\n",
       "      <th>actor_1_facebook_likes</th>\n",
       "      <th>gross</th>\n",
       "      <th>genres</th>\n",
       "      <th>...</th>\n",
       "      <th>num_user_for_reviews</th>\n",
       "      <th>language</th>\n",
       "      <th>country</th>\n",
       "      <th>content_rating</th>\n",
       "      <th>budget</th>\n",
       "      <th>title_year</th>\n",
       "      <th>actor_2_facebook_likes</th>\n",
       "      <th>imdb_score</th>\n",
       "      <th>aspect_ratio</th>\n",
       "      <th>movie_facebook_likes</th>\n",
       "    </tr>\n",
       "  </thead>\n",
       "  <tbody>\n",
       "    <tr>\n",
       "      <th>0</th>\n",
       "      <td>Color</td>\n",
       "      <td>James Cameron</td>\n",
       "      <td>723.0</td>\n",
       "      <td>178.0</td>\n",
       "      <td>0.0</td>\n",
       "      <td>855.0</td>\n",
       "      <td>Joel David Moore</td>\n",
       "      <td>1000.0</td>\n",
       "      <td>760505847.0</td>\n",
       "      <td>Action|Adventure|Fantasy|Sci-Fi</td>\n",
       "      <td>...</td>\n",
       "      <td>3054.0</td>\n",
       "      <td>English</td>\n",
       "      <td>USA</td>\n",
       "      <td>PG-13</td>\n",
       "      <td>237000000.0</td>\n",
       "      <td>2009.0</td>\n",
       "      <td>936.0</td>\n",
       "      <td>7.9</td>\n",
       "      <td>1.78</td>\n",
       "      <td>33000</td>\n",
       "    </tr>\n",
       "    <tr>\n",
       "      <th>1</th>\n",
       "      <td>Color</td>\n",
       "      <td>Gore Verbinski</td>\n",
       "      <td>302.0</td>\n",
       "      <td>169.0</td>\n",
       "      <td>563.0</td>\n",
       "      <td>1000.0</td>\n",
       "      <td>Orlando Bloom</td>\n",
       "      <td>40000.0</td>\n",
       "      <td>309404152.0</td>\n",
       "      <td>Action|Adventure|Fantasy</td>\n",
       "      <td>...</td>\n",
       "      <td>1238.0</td>\n",
       "      <td>English</td>\n",
       "      <td>USA</td>\n",
       "      <td>PG-13</td>\n",
       "      <td>300000000.0</td>\n",
       "      <td>2007.0</td>\n",
       "      <td>5000.0</td>\n",
       "      <td>7.1</td>\n",
       "      <td>2.35</td>\n",
       "      <td>0</td>\n",
       "    </tr>\n",
       "    <tr>\n",
       "      <th>2</th>\n",
       "      <td>Color</td>\n",
       "      <td>Sam Mendes</td>\n",
       "      <td>602.0</td>\n",
       "      <td>148.0</td>\n",
       "      <td>0.0</td>\n",
       "      <td>161.0</td>\n",
       "      <td>Rory Kinnear</td>\n",
       "      <td>11000.0</td>\n",
       "      <td>200074175.0</td>\n",
       "      <td>Action|Adventure|Thriller</td>\n",
       "      <td>...</td>\n",
       "      <td>994.0</td>\n",
       "      <td>English</td>\n",
       "      <td>UK</td>\n",
       "      <td>PG-13</td>\n",
       "      <td>245000000.0</td>\n",
       "      <td>2015.0</td>\n",
       "      <td>393.0</td>\n",
       "      <td>6.8</td>\n",
       "      <td>2.35</td>\n",
       "      <td>85000</td>\n",
       "    </tr>\n",
       "    <tr>\n",
       "      <th>3</th>\n",
       "      <td>Color</td>\n",
       "      <td>Christopher Nolan</td>\n",
       "      <td>813.0</td>\n",
       "      <td>164.0</td>\n",
       "      <td>22000.0</td>\n",
       "      <td>23000.0</td>\n",
       "      <td>Christian Bale</td>\n",
       "      <td>27000.0</td>\n",
       "      <td>448130642.0</td>\n",
       "      <td>Action|Thriller</td>\n",
       "      <td>...</td>\n",
       "      <td>2701.0</td>\n",
       "      <td>English</td>\n",
       "      <td>USA</td>\n",
       "      <td>PG-13</td>\n",
       "      <td>250000000.0</td>\n",
       "      <td>2012.0</td>\n",
       "      <td>23000.0</td>\n",
       "      <td>8.5</td>\n",
       "      <td>2.35</td>\n",
       "      <td>164000</td>\n",
       "    </tr>\n",
       "    <tr>\n",
       "      <th>4</th>\n",
       "      <td>NaN</td>\n",
       "      <td>Doug Walker</td>\n",
       "      <td>NaN</td>\n",
       "      <td>NaN</td>\n",
       "      <td>131.0</td>\n",
       "      <td>NaN</td>\n",
       "      <td>Rob Walker</td>\n",
       "      <td>131.0</td>\n",
       "      <td>NaN</td>\n",
       "      <td>Documentary</td>\n",
       "      <td>...</td>\n",
       "      <td>NaN</td>\n",
       "      <td>NaN</td>\n",
       "      <td>NaN</td>\n",
       "      <td>NaN</td>\n",
       "      <td>NaN</td>\n",
       "      <td>NaN</td>\n",
       "      <td>12.0</td>\n",
       "      <td>7.1</td>\n",
       "      <td>NaN</td>\n",
       "      <td>0</td>\n",
       "    </tr>\n",
       "  </tbody>\n",
       "</table>\n",
       "<p>5 rows × 28 columns</p>\n",
       "</div>"
      ],
      "text/plain": [
       "   color      director_name  num_critic_for_reviews  duration  \\\n",
       "0  Color      James Cameron                   723.0     178.0   \n",
       "1  Color     Gore Verbinski                   302.0     169.0   \n",
       "2  Color         Sam Mendes                   602.0     148.0   \n",
       "3  Color  Christopher Nolan                   813.0     164.0   \n",
       "4    NaN        Doug Walker                     NaN       NaN   \n",
       "\n",
       "   director_facebook_likes  actor_3_facebook_likes      actor_2_name  \\\n",
       "0                      0.0                   855.0  Joel David Moore   \n",
       "1                    563.0                  1000.0     Orlando Bloom   \n",
       "2                      0.0                   161.0      Rory Kinnear   \n",
       "3                  22000.0                 23000.0    Christian Bale   \n",
       "4                    131.0                     NaN        Rob Walker   \n",
       "\n",
       "   actor_1_facebook_likes        gross                           genres  ...  \\\n",
       "0                  1000.0  760505847.0  Action|Adventure|Fantasy|Sci-Fi  ...   \n",
       "1                 40000.0  309404152.0         Action|Adventure|Fantasy  ...   \n",
       "2                 11000.0  200074175.0        Action|Adventure|Thriller  ...   \n",
       "3                 27000.0  448130642.0                  Action|Thriller  ...   \n",
       "4                   131.0          NaN                      Documentary  ...   \n",
       "\n",
       "  num_user_for_reviews language  country  content_rating       budget  \\\n",
       "0               3054.0  English      USA           PG-13  237000000.0   \n",
       "1               1238.0  English      USA           PG-13  300000000.0   \n",
       "2                994.0  English       UK           PG-13  245000000.0   \n",
       "3               2701.0  English      USA           PG-13  250000000.0   \n",
       "4                  NaN      NaN      NaN             NaN          NaN   \n",
       "\n",
       "   title_year actor_2_facebook_likes imdb_score  aspect_ratio  \\\n",
       "0      2009.0                  936.0        7.9          1.78   \n",
       "1      2007.0                 5000.0        7.1          2.35   \n",
       "2      2015.0                  393.0        6.8          2.35   \n",
       "3      2012.0                23000.0        8.5          2.35   \n",
       "4         NaN                   12.0        7.1           NaN   \n",
       "\n",
       "  movie_facebook_likes  \n",
       "0                33000  \n",
       "1                    0  \n",
       "2                85000  \n",
       "3               164000  \n",
       "4                    0  \n",
       "\n",
       "[5 rows x 28 columns]"
      ]
     },
     "execution_count": 4,
     "metadata": {},
     "output_type": "execute_result"
    }
   ],
   "source": [
    "movie.head(5)"
   ]
  },
  {
   "cell_type": "code",
   "execution_count": 6,
   "metadata": {},
   "outputs": [
    {
     "data": {
      "text/plain": [
       "Index(['color', 'director_name', 'num_critic_for_reviews', 'duration',\n",
       "       'director_facebook_likes', 'actor_3_facebook_likes', 'actor_2_name',\n",
       "       'actor_1_facebook_likes', 'gross', 'genres', 'actor_1_name',\n",
       "       'movie_title', 'num_voted_users', 'cast_total_facebook_likes',\n",
       "       'actor_3_name', 'facenumber_in_poster', 'plot_keywords',\n",
       "       'movie_imdb_link', 'num_user_for_reviews', 'language', 'country',\n",
       "       'content_rating', 'budget', 'title_year', 'actor_2_facebook_likes',\n",
       "       'imdb_score', 'aspect_ratio', 'movie_facebook_likes'],\n",
       "      dtype='object')"
      ]
     },
     "execution_count": 6,
     "metadata": {},
     "output_type": "execute_result"
    }
   ],
   "source": [
    "movie.columns"
   ]
  },
  {
   "cell_type": "code",
   "execution_count": 8,
   "metadata": {},
   "outputs": [
    {
     "data": {
      "text/plain": [
       "color                         19\n",
       "director_name                104\n",
       "num_critic_for_reviews        50\n",
       "duration                      15\n",
       "director_facebook_likes      104\n",
       "actor_3_facebook_likes        23\n",
       "actor_2_name                  13\n",
       "actor_1_facebook_likes         7\n",
       "gross                        884\n",
       "genres                         0\n",
       "actor_1_name                   7\n",
       "movie_title                    0\n",
       "num_voted_users                0\n",
       "cast_total_facebook_likes      0\n",
       "actor_3_name                  23\n",
       "facenumber_in_poster          13\n",
       "plot_keywords                153\n",
       "movie_imdb_link                0\n",
       "num_user_for_reviews          21\n",
       "language                      12\n",
       "country                        5\n",
       "content_rating               303\n",
       "budget                       492\n",
       "title_year                   108\n",
       "actor_2_facebook_likes        13\n",
       "imdb_score                     0\n",
       "aspect_ratio                 329\n",
       "movie_facebook_likes           0\n",
       "dtype: int64"
      ]
     },
     "execution_count": 8,
     "metadata": {},
     "output_type": "execute_result"
    }
   ],
   "source": [
    "movie.isnull().sum()"
   ]
  },
  {
   "cell_type": "code",
   "execution_count": 9,
   "metadata": {},
   "outputs": [
    {
     "name": "stdout",
     "output_type": "stream",
     "text": [
      "Total null vaules in data is: 2698\n"
     ]
    }
   ],
   "source": [
    "print(\"Total null vaules in data is:\",movie.isnull().sum().sum())"
   ]
  },
  {
   "cell_type": "code",
   "execution_count": 10,
   "metadata": {},
   "outputs": [],
   "source": [
    "clean_data=movie.dropna(how='any')"
   ]
  },
  {
   "cell_type": "code",
   "execution_count": 12,
   "metadata": {},
   "outputs": [
    {
     "name": "stdout",
     "output_type": "stream",
     "text": [
      "New dataframe shape is: (3756, 28)\n",
      "Old dataframe shape is: (5043, 28)\n"
     ]
    }
   ],
   "source": [
    "print(\"New dataframe shape is:\",clean_data.shape)\n",
    "print(\"Old dataframe shape is:\",movie.shape)"
   ]
  },
  {
   "cell_type": "code",
   "execution_count": 13,
   "metadata": {},
   "outputs": [],
   "source": [
    "movie.fillna(value=0,inplace=True)"
   ]
  },
  {
   "cell_type": "code",
   "execution_count": 15,
   "metadata": {},
   "outputs": [],
   "source": [
    "movie[['gross','budget']]=movie[['gross','budget']].fillna(value=0)"
   ]
  },
  {
   "cell_type": "code",
   "execution_count": 16,
   "metadata": {},
   "outputs": [],
   "source": [
    "movie['language']=movie['language'].fillna('no info',inplace=True)"
   ]
  },
  {
   "cell_type": "code",
   "execution_count": 17,
   "metadata": {},
   "outputs": [],
   "source": [
    "movie['budget']=movie['budget'].fillna(movie['budget'].mean(),inplace=True)"
   ]
  },
  {
   "cell_type": "code",
   "execution_count": 23,
   "metadata": {},
   "outputs": [],
   "source": [
    "duplicate=movie[movie.duplicated()]"
   ]
  },
  {
   "cell_type": "code",
   "execution_count": 25,
   "metadata": {},
   "outputs": [
    {
     "name": "stdout",
     "output_type": "stream",
     "text": [
      "The no of duplicate data is:  (45, 28)\n"
     ]
    }
   ],
   "source": [
    "print(\"The no of duplicate data is: \",duplicate.shape)"
   ]
  },
  {
   "cell_type": "code",
   "execution_count": 26,
   "metadata": {},
   "outputs": [],
   "source": [
    "duplicate_link=movie[movie.duplicated(['movie_imdb_link'])]"
   ]
  },
  {
   "cell_type": "code",
   "execution_count": 27,
   "metadata": {},
   "outputs": [
    {
     "name": "stdout",
     "output_type": "stream",
     "text": [
      "The shape of duplicated link is: (124, 28)\n"
     ]
    }
   ],
   "source": [
    "print(\"The shape of duplicated link is:\",duplicate_link.shape)"
   ]
  },
  {
   "cell_type": "code",
   "execution_count": 31,
   "metadata": {},
   "outputs": [],
   "source": [
    "op_labels=['poor','moderate','excellent']\n",
    "category=[0.,4.,7.,10.]\n",
    "movie['imdb_label']=pd.cut(movie['imdb_score'],labels=op_labels,bins=category)"
   ]
  },
  {
   "cell_type": "code",
   "execution_count": 32,
   "metadata": {},
   "outputs": [
    {
     "data": {
      "text/plain": [
       "moderate     3275\n",
       "excellent    1594\n",
       "poor          174\n",
       "Name: imdb_label, dtype: int64"
      ]
     },
     "execution_count": 32,
     "metadata": {},
     "output_type": "execute_result"
    }
   ],
   "source": [
    "movie['imdb_label'].value_counts()"
   ]
  },
  {
   "cell_type": "code",
   "execution_count": 39,
   "metadata": {},
   "outputs": [
    {
     "name": "stdout",
     "output_type": "stream",
     "text": [
      "                                            movie_title  imdb_score imdb_label\n",
      "0                                               Avatar          7.9  excellent\n",
      "1             Pirates of the Caribbean: At World's End          7.1  excellent\n",
      "2                                              Spectre          6.8   moderate\n",
      "3                                The Dark Knight Rises          8.5  excellent\n",
      "4     Star Wars: Episode VII - The Force Awakens    ...         7.1  excellent\n",
      "...                                                 ...         ...        ...\n",
      "5038                           Signed Sealed Delivered          7.7  excellent\n",
      "5039                         The Following                      7.5  excellent\n",
      "5040                              A Plague So Pleasant          6.3   moderate\n",
      "5041                                  Shanghai Calling          6.3   moderate\n",
      "5042                                 My Date with Drew          6.6   moderate\n",
      "\n",
      "[5043 rows x 3 columns]\n"
     ]
    }
   ],
   "source": [
    "print(movie[['movie_title','imdb_score','imdb_label']])"
   ]
  },
  {
   "cell_type": "code",
   "execution_count": 42,
   "metadata": {},
   "outputs": [
    {
     "data": {
      "image/png": "[encoded data removed]",
      "text/plain": [
       "<Figure size 432x288 with 1 Axes>"
      ]
     },
     "metadata": {
      "needs_background": "light"
     },
     "output_type": "display_data"
    }
   ],
   "source": [
    "sns.boxplot(x=movie['facenumber_in_poster'],color='red')\n",
    "plt.xlabel('No of artist in a poster',fontsize=14)\n",
    "plt.show()"
   ]
  },
  {
   "cell_type": "code",
   "execution_count": 50,
   "metadata": {},
   "outputs": [
    {
     "data": {
      "text/plain": [
       "movie_title             500 Days of Summer \n",
       "facenumber_in_poster                     43\n",
       "Name: 3468, dtype: object"
      ]
     },
     "execution_count": 50,
     "metadata": {},
     "output_type": "execute_result"
    }
   ],
   "source": [
    "movie[['movie_title','facenumber_in_poster']].iloc[movie['facenumber_in_poster'].idxmax()]"
   ]
  },
  {
   "cell_type": "code",
   "execution_count": 47,
   "metadata": {},
   "outputs": [
    {
     "data": {
      "text/plain": [
       "count    5043.000000\n",
       "mean        1.367638\n",
       "std         2.012180\n",
       "min         0.000000\n",
       "25%         0.000000\n",
       "50%         1.000000\n",
       "75%         2.000000\n",
       "max        43.000000\n",
       "Name: facenumber_in_poster, dtype: float64"
      ]
     },
     "execution_count": 47,
     "metadata": {},
     "output_type": "execute_result"
    }
   ],
   "source": [
    "movie['facenumber_in_poster'].describe()"
   ]
  },
  {
   "cell_type": "code",
   "execution_count": 51,
   "metadata": {},
   "outputs": [],
   "source": [
    "def outlier_treatment(column):\n",
    "    sorted(column)\n",
    "    Q1,Q3=np.percentile(column,[25,75])\n",
    "    IQR=Q3-Q1\n",
    "    l=Q1-(1.5*IQR)\n",
    "    u=Q3+(1.5*IQR)\n",
    "    return l,u"
   ]
  },
  {
   "cell_type": "code",
   "execution_count": 58,
   "metadata": {},
   "outputs": [],
   "source": [
    "l,u=outlier_treatment(movie['facenumber_in_poster'])"
   ]
  },
  {
   "cell_type": "code",
   "execution_count": 59,
   "metadata": {},
   "outputs": [
    {
     "data": {
      "text/plain": [
       "-3.0"
      ]
     },
     "execution_count": 59,
     "metadata": {},
     "output_type": "execute_result"
    }
   ],
   "source": [
    "l"
   ]
  },
  {
   "cell_type": "code",
   "execution_count": 60,
   "metadata": {},
   "outputs": [
    {
     "data": {
      "text/plain": [
       "5.0"
      ]
     },
     "execution_count": 60,
     "metadata": {},
     "output_type": "execute_result"
    }
   ],
   "source": [
    "u"
   ]
  },
  {
   "cell_type": "code",
   "execution_count": 61,
   "metadata": {},
   "outputs": [
    {
     "data": {
      "text/html": [
       "<div>\n",
       "<style scoped>\n",
       "    .dataframe tbody tr th:only-of-type {\n",
       "        vertical-align: middle;\n",
       "    }\n",
       "\n",
       "    .dataframe tbody tr th {\n",
       "        vertical-align: top;\n",
       "    }\n",
       "\n",
       "    .dataframe thead th {\n",
       "        text-align: right;\n",
       "    }\n",
       "</style>\n",
       "<table border=\"1\" class=\"dataframe\">\n",
       "  <thead>\n",
       "    <tr style=\"text-align: right;\">\n",
       "      <th></th>\n",
       "      <th>color</th>\n",
       "      <th>director_name</th>\n",
       "      <th>num_critic_for_reviews</th>\n",
       "      <th>duration</th>\n",
       "      <th>director_facebook_likes</th>\n",
       "      <th>actor_3_facebook_likes</th>\n",
       "      <th>actor_2_name</th>\n",
       "      <th>actor_1_facebook_likes</th>\n",
       "      <th>gross</th>\n",
       "      <th>genres</th>\n",
       "      <th>...</th>\n",
       "      <th>country</th>\n",
       "      <th>content_rating</th>\n",
       "      <th>budget</th>\n",
       "      <th>title_year</th>\n",
       "      <th>actor_2_facebook_likes</th>\n",
       "      <th>imdb_score</th>\n",
       "      <th>aspect_ratio</th>\n",
       "      <th>movie_facebook_likes</th>\n",
       "      <th>imdb_lable</th>\n",
       "      <th>imdb_label</th>\n",
       "    </tr>\n",
       "  </thead>\n",
       "  <tbody>\n",
       "    <tr>\n",
       "      <th>23</th>\n",
       "      <td>Color</td>\n",
       "      <td>Peter Jackson</td>\n",
       "      <td>509.0</td>\n",
       "      <td>186.0</td>\n",
       "      <td>0.0</td>\n",
       "      <td>773.0</td>\n",
       "      <td>Adam Brown</td>\n",
       "      <td>5000.0</td>\n",
       "      <td>258355354.0</td>\n",
       "      <td>Adventure|Fantasy</td>\n",
       "      <td>...</td>\n",
       "      <td>USA</td>\n",
       "      <td>PG-13</td>\n",
       "      <td>None</td>\n",
       "      <td>2013.0</td>\n",
       "      <td>972.0</td>\n",
       "      <td>7.9</td>\n",
       "      <td>2.35</td>\n",
       "      <td>83000</td>\n",
       "      <td>excellent</td>\n",
       "      <td>excellent</td>\n",
       "    </tr>\n",
       "    <tr>\n",
       "      <th>47</th>\n",
       "      <td>Color</td>\n",
       "      <td>Bryan Singer</td>\n",
       "      <td>539.0</td>\n",
       "      <td>149.0</td>\n",
       "      <td>0.0</td>\n",
       "      <td>20000.0</td>\n",
       "      <td>Peter Dinklage</td>\n",
       "      <td>34000.0</td>\n",
       "      <td>233914986.0</td>\n",
       "      <td>Action|Adventure|Fantasy|Sci-Fi|Thriller</td>\n",
       "      <td>...</td>\n",
       "      <td>USA</td>\n",
       "      <td>PG-13</td>\n",
       "      <td>None</td>\n",
       "      <td>2014.0</td>\n",
       "      <td>22000.0</td>\n",
       "      <td>8.0</td>\n",
       "      <td>2.35</td>\n",
       "      <td>82000</td>\n",
       "      <td>excellent</td>\n",
       "      <td>excellent</td>\n",
       "    </tr>\n",
       "    <tr>\n",
       "      <th>65</th>\n",
       "      <td>Color</td>\n",
       "      <td>Bryan Singer</td>\n",
       "      <td>396.0</td>\n",
       "      <td>144.0</td>\n",
       "      <td>0.0</td>\n",
       "      <td>1000.0</td>\n",
       "      <td>Michael Fassbender</td>\n",
       "      <td>34000.0</td>\n",
       "      <td>154985087.0</td>\n",
       "      <td>Action|Adventure|Sci-Fi</td>\n",
       "      <td>...</td>\n",
       "      <td>USA</td>\n",
       "      <td>PG-13</td>\n",
       "      <td>None</td>\n",
       "      <td>2016.0</td>\n",
       "      <td>13000.0</td>\n",
       "      <td>7.3</td>\n",
       "      <td>2.35</td>\n",
       "      <td>54000</td>\n",
       "      <td>excellent</td>\n",
       "      <td>excellent</td>\n",
       "    </tr>\n",
       "    <tr>\n",
       "      <th>73</th>\n",
       "      <td>Color</td>\n",
       "      <td>David Ayer</td>\n",
       "      <td>418.0</td>\n",
       "      <td>123.0</td>\n",
       "      <td>452.0</td>\n",
       "      <td>329.0</td>\n",
       "      <td>Robin Atkin Downes</td>\n",
       "      <td>10000.0</td>\n",
       "      <td>161087183.0</td>\n",
       "      <td>Action|Adventure|Comedy|Sci-Fi</td>\n",
       "      <td>...</td>\n",
       "      <td>USA</td>\n",
       "      <td>PG-13</td>\n",
       "      <td>None</td>\n",
       "      <td>2016.0</td>\n",
       "      <td>336.0</td>\n",
       "      <td>6.9</td>\n",
       "      <td>2.35</td>\n",
       "      <td>80000</td>\n",
       "      <td>moderate</td>\n",
       "      <td>moderate</td>\n",
       "    </tr>\n",
       "    <tr>\n",
       "      <th>134</th>\n",
       "      <td>Color</td>\n",
       "      <td>Tim Burton</td>\n",
       "      <td>526.0</td>\n",
       "      <td>113.0</td>\n",
       "      <td>13000.0</td>\n",
       "      <td>16000.0</td>\n",
       "      <td>Chloë Grace Moretz</td>\n",
       "      <td>40000.0</td>\n",
       "      <td>79711678.0</td>\n",
       "      <td>Comedy|Fantasy|Horror</td>\n",
       "      <td>...</td>\n",
       "      <td>USA</td>\n",
       "      <td>PG-13</td>\n",
       "      <td>None</td>\n",
       "      <td>2012.0</td>\n",
       "      <td>17000.0</td>\n",
       "      <td>6.2</td>\n",
       "      <td>1.85</td>\n",
       "      <td>82000</td>\n",
       "      <td>moderate</td>\n",
       "      <td>moderate</td>\n",
       "    </tr>\n",
       "    <tr>\n",
       "      <th>...</th>\n",
       "      <td>...</td>\n",
       "      <td>...</td>\n",
       "      <td>...</td>\n",
       "      <td>...</td>\n",
       "      <td>...</td>\n",
       "      <td>...</td>\n",
       "      <td>...</td>\n",
       "      <td>...</td>\n",
       "      <td>...</td>\n",
       "      <td>...</td>\n",
       "      <td>...</td>\n",
       "      <td>...</td>\n",
       "      <td>...</td>\n",
       "      <td>...</td>\n",
       "      <td>...</td>\n",
       "      <td>...</td>\n",
       "      <td>...</td>\n",
       "      <td>...</td>\n",
       "      <td>...</td>\n",
       "      <td>...</td>\n",
       "      <td>...</td>\n",
       "    </tr>\n",
       "    <tr>\n",
       "      <th>4829</th>\n",
       "      <td>Color</td>\n",
       "      <td>Cédric Klapisch</td>\n",
       "      <td>29.0</td>\n",
       "      <td>91.0</td>\n",
       "      <td>82.0</td>\n",
       "      <td>8.0</td>\n",
       "      <td>Zinedine Soualem</td>\n",
       "      <td>75.0</td>\n",
       "      <td>1652472.0</td>\n",
       "      <td>Comedy|Romance</td>\n",
       "      <td>...</td>\n",
       "      <td>France</td>\n",
       "      <td>R</td>\n",
       "      <td>None</td>\n",
       "      <td>1996.0</td>\n",
       "      <td>9.0</td>\n",
       "      <td>6.9</td>\n",
       "      <td>1.66</td>\n",
       "      <td>166</td>\n",
       "      <td>moderate</td>\n",
       "      <td>moderate</td>\n",
       "    </tr>\n",
       "    <tr>\n",
       "      <th>4847</th>\n",
       "      <td>Color</td>\n",
       "      <td>Jerome Elston Scott</td>\n",
       "      <td>8.0</td>\n",
       "      <td>98.0</td>\n",
       "      <td>3.0</td>\n",
       "      <td>248.0</td>\n",
       "      <td>Joanna Cassidy</td>\n",
       "      <td>500.0</td>\n",
       "      <td>0.0</td>\n",
       "      <td>Comedy|Drama|Romance</td>\n",
       "      <td>...</td>\n",
       "      <td>USA</td>\n",
       "      <td>R</td>\n",
       "      <td>None</td>\n",
       "      <td>2010.0</td>\n",
       "      <td>317.0</td>\n",
       "      <td>7.2</td>\n",
       "      <td>0.00</td>\n",
       "      <td>7</td>\n",
       "      <td>excellent</td>\n",
       "      <td>excellent</td>\n",
       "    </tr>\n",
       "    <tr>\n",
       "      <th>4883</th>\n",
       "      <td>Color</td>\n",
       "      <td>Joel Paul Reisig</td>\n",
       "      <td>1.0</td>\n",
       "      <td>108.0</td>\n",
       "      <td>431.0</td>\n",
       "      <td>3.0</td>\n",
       "      <td>Dana Blackstone</td>\n",
       "      <td>288.0</td>\n",
       "      <td>0.0</td>\n",
       "      <td>Family</td>\n",
       "      <td>...</td>\n",
       "      <td>USA</td>\n",
       "      <td>PG</td>\n",
       "      <td>None</td>\n",
       "      <td>2014.0</td>\n",
       "      <td>96.0</td>\n",
       "      <td>6.6</td>\n",
       "      <td>0.00</td>\n",
       "      <td>71</td>\n",
       "      <td>moderate</td>\n",
       "      <td>moderate</td>\n",
       "    </tr>\n",
       "    <tr>\n",
       "      <th>4900</th>\n",
       "      <td>Color</td>\n",
       "      <td>David G. Evans</td>\n",
       "      <td>25.0</td>\n",
       "      <td>101.0</td>\n",
       "      <td>0.0</td>\n",
       "      <td>16.0</td>\n",
       "      <td>Chris Thomas</td>\n",
       "      <td>77000.0</td>\n",
       "      <td>2428241.0</td>\n",
       "      <td>Drama</td>\n",
       "      <td>...</td>\n",
       "      <td>USA</td>\n",
       "      <td>PG-13</td>\n",
       "      <td>None</td>\n",
       "      <td>2010.0</td>\n",
       "      <td>21.0</td>\n",
       "      <td>6.4</td>\n",
       "      <td>0.00</td>\n",
       "      <td>0</td>\n",
       "      <td>moderate</td>\n",
       "      <td>moderate</td>\n",
       "    </tr>\n",
       "    <tr>\n",
       "      <th>4994</th>\n",
       "      <td>Color</td>\n",
       "      <td>Patrick Meaney</td>\n",
       "      <td>7.0</td>\n",
       "      <td>81.0</td>\n",
       "      <td>3.0</td>\n",
       "      <td>18.0</td>\n",
       "      <td>Greg Aronowitz</td>\n",
       "      <td>26.0</td>\n",
       "      <td>0.0</td>\n",
       "      <td>Biography|Documentary</td>\n",
       "      <td>...</td>\n",
       "      <td>USA</td>\n",
       "      <td>0</td>\n",
       "      <td>None</td>\n",
       "      <td>2014.0</td>\n",
       "      <td>20.0</td>\n",
       "      <td>7.4</td>\n",
       "      <td>0.00</td>\n",
       "      <td>83</td>\n",
       "      <td>excellent</td>\n",
       "      <td>excellent</td>\n",
       "    </tr>\n",
       "  </tbody>\n",
       "</table>\n",
       "<p>210 rows × 30 columns</p>\n",
       "</div>"
      ],
      "text/plain": [
       "      color        director_name  num_critic_for_reviews  duration  \\\n",
       "23    Color        Peter Jackson                   509.0     186.0   \n",
       "47    Color         Bryan Singer                   539.0     149.0   \n",
       "65    Color         Bryan Singer                   396.0     144.0   \n",
       "73    Color           David Ayer                   418.0     123.0   \n",
       "134   Color           Tim Burton                   526.0     113.0   \n",
       "...     ...                  ...                     ...       ...   \n",
       "4829  Color      Cédric Klapisch                    29.0      91.0   \n",
       "4847  Color  Jerome Elston Scott                     8.0      98.0   \n",
       "4883  Color     Joel Paul Reisig                     1.0     108.0   \n",
       "4900  Color       David G. Evans                    25.0     101.0   \n",
       "4994  Color       Patrick Meaney                     7.0      81.0   \n",
       "\n",
       "      director_facebook_likes  actor_3_facebook_likes        actor_2_name  \\\n",
       "23                        0.0                   773.0          Adam Brown   \n",
       "47                        0.0                 20000.0      Peter Dinklage   \n",
       "65                        0.0                  1000.0  Michael Fassbender   \n",
       "73                      452.0                   329.0  Robin Atkin Downes   \n",
       "134                   13000.0                 16000.0  Chloë Grace Moretz   \n",
       "...                       ...                     ...                 ...   \n",
       "4829                     82.0                     8.0    Zinedine Soualem   \n",
       "4847                      3.0                   248.0      Joanna Cassidy   \n",
       "4883                    431.0                     3.0     Dana Blackstone   \n",
       "4900                      0.0                    16.0        Chris Thomas   \n",
       "4994                      3.0                    18.0      Greg Aronowitz   \n",
       "\n",
       "      actor_1_facebook_likes        gross  \\\n",
       "23                    5000.0  258355354.0   \n",
       "47                   34000.0  233914986.0   \n",
       "65                   34000.0  154985087.0   \n",
       "73                   10000.0  161087183.0   \n",
       "134                  40000.0   79711678.0   \n",
       "...                      ...          ...   \n",
       "4829                    75.0    1652472.0   \n",
       "4847                   500.0          0.0   \n",
       "4883                   288.0          0.0   \n",
       "4900                 77000.0    2428241.0   \n",
       "4994                    26.0          0.0   \n",
       "\n",
       "                                        genres  ... country content_rating  \\\n",
       "23                           Adventure|Fantasy  ...     USA          PG-13   \n",
       "47    Action|Adventure|Fantasy|Sci-Fi|Thriller  ...     USA          PG-13   \n",
       "65                     Action|Adventure|Sci-Fi  ...     USA          PG-13   \n",
       "73              Action|Adventure|Comedy|Sci-Fi  ...     USA          PG-13   \n",
       "134                      Comedy|Fantasy|Horror  ...     USA          PG-13   \n",
       "...                                        ...  ...     ...            ...   \n",
       "4829                            Comedy|Romance  ...  France              R   \n",
       "4847                      Comedy|Drama|Romance  ...     USA              R   \n",
       "4883                                    Family  ...     USA             PG   \n",
       "4900                                     Drama  ...     USA          PG-13   \n",
       "4994                     Biography|Documentary  ...     USA              0   \n",
       "\n",
       "      budget  title_year actor_2_facebook_likes  imdb_score aspect_ratio  \\\n",
       "23      None      2013.0                  972.0         7.9         2.35   \n",
       "47      None      2014.0                22000.0         8.0         2.35   \n",
       "65      None      2016.0                13000.0         7.3         2.35   \n",
       "73      None      2016.0                  336.0         6.9         2.35   \n",
       "134     None      2012.0                17000.0         6.2         1.85   \n",
       "...      ...         ...                    ...         ...          ...   \n",
       "4829    None      1996.0                    9.0         6.9         1.66   \n",
       "4847    None      2010.0                  317.0         7.2         0.00   \n",
       "4883    None      2014.0                   96.0         6.6         0.00   \n",
       "4900    None      2010.0                   21.0         6.4         0.00   \n",
       "4994    None      2014.0                   20.0         7.4         0.00   \n",
       "\n",
       "     movie_facebook_likes  imdb_lable imdb_label  \n",
       "23                  83000   excellent  excellent  \n",
       "47                  82000   excellent  excellent  \n",
       "65                  54000   excellent  excellent  \n",
       "73                  80000    moderate   moderate  \n",
       "134                 82000    moderate   moderate  \n",
       "...                   ...         ...        ...  \n",
       "4829                  166    moderate   moderate  \n",
       "4847                    7   excellent  excellent  \n",
       "4883                   71    moderate   moderate  \n",
       "4900                    0    moderate   moderate  \n",
       "4994                   83   excellent  excellent  \n",
       "\n",
       "[210 rows x 30 columns]"
      ]
     },
     "execution_count": 61,
     "metadata": {},
     "output_type": "execute_result"
    }
   ],
   "source": [
    "movie[(movie['facenumber_in_poster']>u) | (movie['facenumber_in_poster']<l)]"
   ]
  },
  {
   "cell_type": "code",
   "execution_count": 65,
   "metadata": {},
   "outputs": [],
   "source": [
    "movie.drop(movie[(movie['facenumber_in_poster']>u) | (movie['facenumber_in_poster']<l)].index,inplace=True)"
   ]
  },
  {
   "cell_type": "code",
   "execution_count": 69,
   "metadata": {},
   "outputs": [
    {
     "data": {
      "image/png": "[encoded data removed]",
      "text/plain": [
       "<Figure size 432x288 with 1 Axes>"
      ]
     },
     "metadata": {
      "needs_background": "light"
     },
     "output_type": "display_data"
    }
   ],
   "source": [
    "sns.boxplot(x=movie['facenumber_in_poster'],color='yellow')\n",
    "plt.xlabel(\"No of face in poster\",fontsize=15)\n",
    "plt.show()"
   ]
  },
  {
   "cell_type": "code",
   "execution_count": 70,
   "metadata": {},
   "outputs": [
    {
     "data": {
      "text/plain": [
       "color                          object\n",
       "director_name                  object\n",
       "num_critic_for_reviews        float64\n",
       "duration                      float64\n",
       "director_facebook_likes       float64\n",
       "actor_3_facebook_likes        float64\n",
       "actor_2_name                   object\n",
       "actor_1_facebook_likes        float64\n",
       "gross                         float64\n",
       "genres                         object\n",
       "actor_1_name                   object\n",
       "movie_title                    object\n",
       "num_voted_users                 int64\n",
       "cast_total_facebook_likes       int64\n",
       "actor_3_name                   object\n",
       "facenumber_in_poster          float64\n",
       "plot_keywords                  object\n",
       "movie_imdb_link                object\n",
       "num_user_for_reviews          float64\n",
       "language                       object\n",
       "country                        object\n",
       "content_rating                 object\n",
       "budget                         object\n",
       "title_year                    float64\n",
       "actor_2_facebook_likes        float64\n",
       "imdb_score                    float64\n",
       "aspect_ratio                  float64\n",
       "movie_facebook_likes            int64\n",
       "imdb_lable                   category\n",
       "imdb_label                   category\n",
       "dtype: object"
      ]
     },
     "execution_count": 70,
     "metadata": {},
     "output_type": "execute_result"
    }
   ],
   "source": [
    "movie.dtypes"
   ]
  },
  {
   "cell_type": "code",
   "execution_count": null,
   "metadata": {},
   "outputs": [],
   "source": []
  },
  {
   "cell_type": "code",
   "execution_count": null,
   "metadata": {},
   "outputs": [],
   "source": []
  },
  {
   "cell_type": "code",
   "execution_count": null,
   "metadata": {},
   "outputs": [],
   "source": []
  },
  {
   "cell_type": "code",
   "execution_count": 83,
   "metadata": {},
   "outputs": [],
   "source": []
  },
  {
   "cell_type": "code",
   "execution_count": null,
   "metadata": {},
   "outputs": [],
   "source": []
  },
  {
   "cell_type": "code",
   "execution_count": null,
   "metadata": {},
   "outputs": [],
   "source": []
  }
 ],
 "metadata": {
  "kernelspec": {
   "display_name": "Python 3",
   "language": "python",
   "name": "python3"
  },
  "language_info": {
   "codemirror_mode": {
    "name": "ipython",
    "version": 3
   },
   "file_extension": ".py",
   "mimetype": "text/x-python",
   "name": "python",
   "nbconvert_exporter": "python",
   "pygments_lexer": "ipython3",
   "version": "3.8.3"
  }
 },
 "nbformat": 4,
 "nbformat_minor": 4
}
